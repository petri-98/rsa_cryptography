{
 "cells": [
  {
   "cell_type": "markdown",
   "id": "129d804f",
   "metadata": {},
   "source": [
    "# Implementing RSA from scratch"
   ]
  },
  {
   "cell_type": "code",
   "execution_count": 1,
   "id": "d47da8ce",
   "metadata": {},
   "outputs": [],
   "source": [
    "import random"
   ]
  },
  {
   "cell_type": "markdown",
   "id": "d1bad74d",
   "metadata": {},
   "source": [
    "## ASCII encoding schemes\n",
    "Via `ord`, a string is just a sequence of bytes, which we can think of as a number in base 256. Therefore translating a string to an integer $n$ and back should can be thought of as computing the number from this base 256 representation.\n",
    "\n",
    "`textToInt` takes a string w as input: a list of characters $c_0c_1c_2c_3...c_r$\n",
    "and outputs an integer $n$ satisfying: $$n=\\sum_{i=0}^{r} ord(c_i)*256^i$$"
   ]
  },
  {
   "cell_type": "code",
   "execution_count": 2,
   "id": "96cbaa67",
   "metadata": {},
   "outputs": [],
   "source": [
    "def textToInt(words):\n",
    "    number = 0\n",
    "    i = 0\n",
    "    for letter in words:\n",
    "        number += ord(letter)*(256**i)\n",
    "        i+=1\n",
    "    return number"
   ]
  },
  {
   "cell_type": "markdown",
   "id": "d1fb0d6a",
   "metadata": {},
   "source": [
    "`intToText` does the inverse job: finding the base 256 expansion $n$, and then converting each *'digit'* (which is a byte, i.e., a number 0,...,255) into its corresponding letter using `chr`:"
   ]
  },
  {
   "cell_type": "code",
   "execution_count": 3,
   "id": "9e140d85",
   "metadata": {},
   "outputs": [],
   "source": [
    "def intToText(number):\n",
    "    words = \"\"\n",
    "    while number>0:\n",
    "        nextLetter = number % 256\n",
    "        words += chr(nextLetter)\n",
    "        number = (number-nextLetter)//256\n",
    "    return words"
   ]
  },
  {
   "cell_type": "markdown",
   "id": "1818bffc",
   "metadata": {},
   "source": [
    "## Maths functions\n",
    "Here some useful maths tools are defined. They will be used throughout the whole notebook.\n",
    "\n",
    "`divisionWithRemainder` takes two integers and returns the result of the integer division between them and the remainder"
   ]
  },
  {
   "cell_type": "code",
   "execution_count": 4,
   "id": "bbc75ea0",
   "metadata": {},
   "outputs": [],
   "source": [
    "def divisionWithRemainder(a,b):\n",
    "    return [a//b, a%b]"
   ]
  },
  {
   "cell_type": "markdown",
   "id": "4f4d63f8",
   "metadata": {},
   "source": [
    "`findGCDFast` takes two integers $a$ and $b$ and returns their GCD. It implements the Euclidean algorithm and uses the `divisionWithRemainder` function\n",
    "\n",
    "`extendedGCD` works with the same philosophy but it is optimized and returns the GCD and the integers $u$ and $v$ such that: $$au + bv = GCD(a,b)$$"
   ]
  },
  {
   "cell_type": "code",
   "execution_count": 5,
   "id": "2d5e7276",
   "metadata": {},
   "outputs": [],
   "source": [
    "def findGCDFast(a,b):\n",
    "    q, r = divisionWithRemainder(a,b)\n",
    "    while r > 0:\n",
    "        a = b\n",
    "        b = r\n",
    "        q, r = divisionWithRemainder(a,b)\n",
    "    return b\n",
    "\n",
    "def extendedGCD(a,b):\n",
    "    u = 1\n",
    "    g = a\n",
    "    x = 0\n",
    "    y = b\n",
    "    while y > 0:\n",
    "        q,t = divisionWithRemainder(g,y)\n",
    "        s = u - q*x\n",
    "        u, g = x, y\n",
    "        x, y = s, t\n",
    "    v = (g - a*u)//b\n",
    "    return [g,u,v]"
   ]
  },
  {
   "cell_type": "code",
   "execution_count": 6,
   "id": "a9369d53",
   "metadata": {},
   "outputs": [
    {
     "data": {
      "text/plain": [
       "[3, 37, -62]"
      ]
     },
     "execution_count": 6,
     "metadata": {},
     "output_type": "execute_result"
    }
   ],
   "source": [
    "extendedGCD(543,324)"
   ]
  },
  {
   "cell_type": "markdown",
   "id": "7b06e287",
   "metadata": {},
   "source": [
    "The fast powering algorithm takes as input natural numbers $N, A$,\n",
    "and an element $g \\in \\mathbb{Z}/N\\mathbb{Z}$, and returns $g^A \\ (mod \\ N)$, that is, the reduction of $g^A$ modulo $N$. It requires computing the binary expansion of the number $A$.\n",
    "For large values of $A$, it requires a remembering large amounts of data,\n",
    "which is not ideal. Here `fastPowerSmall` is a variant of the fast powering algorithm which avoids the need for storage."
   ]
  },
  {
   "cell_type": "code",
   "execution_count": 7,
   "id": "14b00d76",
   "metadata": {},
   "outputs": [],
   "source": [
    "def fastPowerSmall(g,A,N):\n",
    "    a = g\n",
    "    b = 1\n",
    "    while A>0:\n",
    "        if A % 2 == 1:\n",
    "            b = b * a % N\n",
    "        A = A//2\n",
    "        a = a*a % N\n",
    "    return b"
   ]
  },
  {
   "cell_type": "markdown",
   "id": "d67a38a1",
   "metadata": {},
   "source": [
    "The problem at the center of RSA is finding the e’th root of the ciphertext $c$ modulo $N$ where $N = pq$ is a product of (distinct) primes. This is hard to do for large $N$ if you don’t know the factors $p$ and $q$, but once you know them, it becomes easy!\n",
    "\n",
    "`findRoot` takes as input 4 integers:\n",
    "- $c$: the ciphertext\n",
    "- $e$: the encryption exponent\n",
    "- $p,q$: the two prime factors of $N$\n",
    "\n",
    "and solves the equation $x^e \\equiv c\\ \\ (mod N)$ for $x$ where $N = pq$.\n",
    "\n",
    "The function uses some mathematical results and the functions we defined before."
   ]
  },
  {
   "cell_type": "code",
   "execution_count": 8,
   "id": "2d57ccad",
   "metadata": {},
   "outputs": [],
   "source": [
    "def findRoot(c,e,p,q):\n",
    "    if extendedGCD(e,(p-1)*(q-1))[0] == 1:\n",
    "        g = findGCDFast(p-1,q-1)\n",
    "        m = (p-1)*(q-1)/g\n",
    "        d = extendedGCD(e,m)[1] % m\n",
    "        return fastPowerSmall(c,d,p*q)\n",
    "    else:\n",
    "        print(\"Error: e and (p-1)*(q-1) must be coprimes\")"
   ]
  },
  {
   "cell_type": "code",
   "execution_count": 9,
   "id": "41669094",
   "metadata": {},
   "outputs": [
    {
     "data": {
      "text/plain": [
       "14458"
      ]
     },
     "execution_count": 9,
     "metadata": {},
     "output_type": "execute_result"
    }
   ],
   "source": [
    "findRoot(43927,17389,229,281)"
   ]
  },
  {
   "cell_type": "code",
   "execution_count": 10,
   "id": "62c7188e",
   "metadata": {},
   "outputs": [
    {
     "data": {
      "text/plain": [
       "25470280263"
      ]
     },
     "execution_count": 10,
     "metadata": {},
     "output_type": "execute_result"
    }
   ],
   "source": [
    "findRoot(134872,9843,104729,287117)"
   ]
  },
  {
   "cell_type": "markdown",
   "id": "27dc611a",
   "metadata": {},
   "source": [
    "## Finding primes\n",
    "The security of RSA depends on finding two large primes $p$ and $q$, and multiplying them together to get a large value $N$. As said before, knowing $p$ and $q$ makes the RSA problem easy, so it is important that you keep $p$ and $q$ secret. The best way to do this is to generate them yourself, using the following tools.\n",
    "\n",
    "Firstly, we need to implement a primality test: here a probabilistic test based on *Miller-Rabin witnesses* is used. \n",
    "\n",
    "**Definition.** Let n be an odd number and write $n-1=2^{k}q$ with $q$ odd. An\n",
    "integer $a$ satisfying $GCD(a, n) = 1$ is called a *Miller–Rabin witness for (the compositeness of)* $n$ if both of the following conditions are true:\n",
    "- $a^q \\neq 1\\ \\ (mod\\ n)$\n",
    "- None of $a^{2^{i}q} \\equiv -1\\ \\ (mod\\ n)$ for all $i = 0, 1, 2,...,k - 1$\n",
    "\n",
    "It can be proven that if there exists a *Miller–Rabin witness for* $n$, then $n$ is definitely a composite number.\n",
    "\n",
    "The function `millerRabin` takes as input integers $a, n \\in \\mathbb{Z}$ with $2 ≤ a ≤ n-1$ and returns `True` if $a$ is a *Miller-Rabin witness for (the compositeness of)* $n$ and `False` otherwise.\n",
    "\n",
    "The function `pow2_times_odd` is just an utility function used in the `millerRabin` function.\n",
    "\n",
    "Note that using the fast powering function `fastPowerSmall` in `millerRabin` is crucial because without it, everything would slow down significantly as the numbers get bigger and bigger."
   ]
  },
  {
   "cell_type": "code",
   "execution_count": 11,
   "id": "230f2f77",
   "metadata": {},
   "outputs": [],
   "source": [
    "def pow2_times_odd(m):\n",
    "    k = 0\n",
    "    while m%2 == 0:\n",
    "        k += 1\n",
    "        m //= 2\n",
    "    return k,m\n",
    "\n",
    "def millerRabin(a, n):\n",
    "    if (n%2 == 0 or 1 < findGCDFast(a,n) < n):\n",
    "        return True\n",
    "    k = pow2_times_odd(n-1)[0]\n",
    "    q = pow2_times_odd(n-1)[1]\n",
    "    a = fastPowerSmall(a,q,n)\n",
    "        \n",
    "    if a % n == 1:\n",
    "        return False\n",
    "        \n",
    "    for i in range(k):\n",
    "        if a % n == n-1:\n",
    "            return False\n",
    "        a = a*a % n\n",
    "    return True"
   ]
  },
  {
   "cell_type": "markdown",
   "id": "bb1eb846",
   "metadata": {},
   "source": [
    "Finding one *Miller-Rabin witness* $a$ means that $n$ is composite, but if $a$ is not a *Miller-Rabin witness*, that does not mean that $n$ is prime. Nevertheless, *Miller-Rabin witnesses* are very plentiful for composite numbers. We exploit this to write a probabilistic test for primality.\n",
    "\n",
    "`probablyPrime` runs `millerRabin` for 20 randomly chosen $a$ with $2 ≤ a ≤ n-1$. If any of these $a$ are a *witness*, then $n$ must be composite,\n",
    "so it return `False`. Otherwise, it is very likely that $n$ is prime, so we return `True`."
   ]
  },
  {
   "cell_type": "code",
   "execution_count": 12,
   "id": "e839b58d",
   "metadata": {},
   "outputs": [],
   "source": [
    "def probablyPrime(n):\n",
    "    for i in range(20):\n",
    "        a = random.randrange(2, n)\n",
    "        if millerRabin(int(a),n) == True:\n",
    "            return False\n",
    "    return True"
   ]
  },
  {
   "cell_type": "markdown",
   "id": "d6e064d7",
   "metadata": {},
   "source": [
    "So far, we have built a way to efficiently test if a given number is (very likely) prime. Now, how to find primes in a given range? It turns out that primes are plentiful enough that if we just guess random numbers and see if they are prime, we will probably get one before too long.\n",
    "\n",
    "`findPrime` returns a prime between the two bounds by repeatedly picking a random number $n$ between the bounds and running `probablyPrime`, until it finds an $n$ that is (probably) prime, and returns it."
   ]
  },
  {
   "cell_type": "code",
   "execution_count": 13,
   "id": "e5b5fd65",
   "metadata": {},
   "outputs": [],
   "source": [
    "def findPrime(lowerBound, upperBound):\n",
    "    n = random.randrange(lowerBound, upperBound)\n",
    "    while not probablyPrime(n):\n",
    "        n = random.randrange(lowerBound, upperBound)\n",
    "        if probablyPrime(n) == True:\n",
    "            return n\n",
    "    return n"
   ]
  },
  {
   "cell_type": "markdown",
   "id": "b0c41a87",
   "metadata": {},
   "source": [
    "Let's try if everything works finding a prime with 100 digits. We check if our number is actually a prime using the `sympy` library."
   ]
  },
  {
   "cell_type": "code",
   "execution_count": 15,
   "id": "6bbb489d",
   "metadata": {},
   "outputs": [
    {
     "name": "stdout",
     "output_type": "stream",
     "text": [
      "Defaulting to user installation because normal site-packages is not writeable\n",
      "Collecting sympy\n",
      "  Using cached sympy-1.11.1-py3-none-any.whl (6.5 MB)\n",
      "Collecting mpmath>=0.19\n",
      "  Using cached mpmath-1.2.1-py3-none-any.whl (532 kB)\n",
      "Installing collected packages: mpmath, sympy\n",
      "\u001b[33m  WARNING: The script isympy is installed in '/home/petri/.local/bin' which is not on PATH.\n",
      "  Consider adding this directory to PATH or, if you prefer to suppress this warning, use --no-warn-script-location.\u001b[0m\u001b[33m\n",
      "\u001b[0mSuccessfully installed mpmath-1.2.1 sympy-1.11.1\n",
      "Note: you may need to restart the kernel to use updated packages.\n"
     ]
    }
   ],
   "source": [
    "%pip install sympy"
   ]
  },
  {
   "cell_type": "code",
   "execution_count": 16,
   "id": "3e836e4f",
   "metadata": {
    "scrolled": true
   },
   "outputs": [
    {
     "name": "stdout",
     "output_type": "stream",
     "text": [
      "5721294443540187064776952751611002161800998286310512397841933349242177528112372632396842958698873147\n",
      "\n",
      "True\n"
     ]
    }
   ],
   "source": [
    "prime = findPrime(int(1e99),int(1e100-1))\n",
    "print(prime)\n",
    "print()\n",
    "\n",
    "import sympy\n",
    "print(sympy.isprime(prime))"
   ]
  },
  {
   "cell_type": "markdown",
   "id": "5555cc31",
   "metadata": {},
   "source": [
    "## RSA in its full glory\n",
    "Now we have all the tools needed to implement the RSA cryptography. To do so, we have to create the three main RSA building blocks:\n",
    "- An RSA key generator\n",
    "- An encryption function\n",
    "- A decryption function\n",
    "\n",
    "To generate the key we define a function `generateRSAKey` which takes as input an integer $b$ and generates an RSA public and private key from primes $b$ bits long in the following four steps:\n",
    "\n",
    "1. Generate 2 primes $p$ and $q$ of length $b$ bits using the functions defined before.\n",
    "2. Choose an encryption exponent $e \\in (\\mathbb{Z}/(p - 1)(q - 1) \\mathbb{Z})^*$ with $e \\neq 1$.\n",
    "3. Compute the decryption exponent $d$ associated to $e$.\n",
    "4. Return a pair of keys `[PublicKey,PrivateKey]` where:\n",
    "    - `PublicKey = [N,e]`  will be published; ($N = pq$)\n",
    "    - `PrivateKey = [N,d]` will be kept secret and used to decrypt messages."
   ]
  },
  {
   "cell_type": "code",
   "execution_count": 17,
   "id": "1a24c524",
   "metadata": {},
   "outputs": [],
   "source": [
    "def generateRSAKey(b):\n",
    "    p = findPrime(2**(b-1),2**b - 1)\n",
    "    q = findPrime(2**(b-1),2**b - 1)\n",
    "    \n",
    "    e = 2\n",
    "    while findGCDFast(e, (p-1)*(q-1)) != 1:\n",
    "        e = random.randrange(2, (p-1)*(q-1) - 1)\n",
    "        \n",
    "    g = findGCDFast(p-1,q-1)\n",
    "    m = (p-1)*(q-1)//g\n",
    "    d = extendedGCD(e,m)[1] % m\n",
    "    \n",
    "    PublicKey = [p*q, e]\n",
    "    PrivateKey = [p*q, d]\n",
    "    \n",
    "    return [PublicKey, PrivateKey]"
   ]
  },
  {
   "cell_type": "markdown",
   "id": "15bcbb3f",
   "metadata": {},
   "source": [
    "The encryption/decryption functions are pretty straightforward. See the table below to better understand what they do.\n",
    "\n",
    "Note again the use of `fastPowerSmall` to speed up computations."
   ]
  },
  {
   "cell_type": "code",
   "execution_count": 18,
   "id": "c52ecb60",
   "metadata": {},
   "outputs": [],
   "source": [
    "def RSAEncrypt(message, PublicKey):\n",
    "    return fastPowerSmall(message,PublicKey[1],PublicKey[0])\n",
    "\n",
    "def RSADecrypt(cipher, PrivateKey):\n",
    "    return fastPowerSmall(cipher,PrivateKey[1],PrivateKey[0])"
   ]
  },
  {
   "cell_type": "markdown",
   "id": "6ed1a726",
   "metadata": {},
   "source": [
    "This schematic table clearly shows how RSA encryption/decryption works.\n",
    "![alt text](rsa.PNG \"RSA\")\n",
    "*Image credits: An Introduction to Mathematical Cryptography - Jeffrey Hoffstein, Jill Pipher, Joseph H. Silverman*"
   ]
  },
  {
   "cell_type": "markdown",
   "id": "71c47504",
   "metadata": {},
   "source": [
    "## Test: 16bit-RSA\n",
    "Let's test our work with a small numeric message."
   ]
  },
  {
   "cell_type": "code",
   "execution_count": 19,
   "id": "1e6c7e31",
   "metadata": {},
   "outputs": [],
   "source": [
    "key = generateRSAKey(16)"
   ]
  },
  {
   "cell_type": "code",
   "execution_count": 20,
   "id": "8c8ca907",
   "metadata": {},
   "outputs": [],
   "source": [
    "message = 314159"
   ]
  },
  {
   "cell_type": "code",
   "execution_count": 21,
   "id": "8ef28807",
   "metadata": {},
   "outputs": [],
   "source": [
    "cipher = RSAEncrypt(message, key[0])"
   ]
  },
  {
   "cell_type": "code",
   "execution_count": 22,
   "id": "c2ba6552",
   "metadata": {},
   "outputs": [
    {
     "data": {
      "text/plain": [
       "314159"
      ]
     },
     "execution_count": 22,
     "metadata": {},
     "output_type": "execute_result"
    }
   ],
   "source": [
    "RSADecrypt(cipher, key[1])"
   ]
  },
  {
   "cell_type": "markdown",
   "id": "68838b1e",
   "metadata": {},
   "source": [
    "The message got after the decryption process is the same of the initial one, so everything worked!"
   ]
  },
  {
   "cell_type": "markdown",
   "id": "70b28912",
   "metadata": {},
   "source": [
    "## Test: 512bit-RSA\n",
    "Now, let's try with a longer text message. Clearly, we need more bit to store more information and that's why we are using 512 bit here."
   ]
  },
  {
   "cell_type": "code",
   "execution_count": 27,
   "id": "76fd50a2",
   "metadata": {},
   "outputs": [
    {
     "data": {
      "text/plain": [
       "[93791951647170464720011059182837961431056512215466403269451362758730863000893709630106951893038968907315335182167090205816550695958485215801115680290162432380563017834815012367411965369149929979671989831537837339644255830758483576838351704857357822394111131369152508750784448555107488401813792867872080144259,\n",
       " 51154987670896938483485888594612962432206454212630477226545215180604556390235881159152221682902695868553853616422212728955235339700911561085289344818239411305908037142467440354528555609294923702043082686003745030723472443545753219109136633239278698887083425229579762117175639056867412722780355181431314602799]"
      ]
     },
     "execution_count": 27,
     "metadata": {},
     "output_type": "execute_result"
    }
   ],
   "source": [
    "key = generateRSAKey(512)\n",
    "key[0]"
   ]
  },
  {
   "cell_type": "code",
   "execution_count": 24,
   "id": "c4342e3c",
   "metadata": {},
   "outputs": [],
   "source": [
    "message = \"Hello, this is a test!\""
   ]
  },
  {
   "cell_type": "code",
   "execution_count": 25,
   "id": "b2cb08b4",
   "metadata": {},
   "outputs": [],
   "source": [
    "cipher = RSAEncrypt(textToInt(message), key[0]) "
   ]
  },
  {
   "cell_type": "code",
   "execution_count": 26,
   "id": "9f18b863",
   "metadata": {},
   "outputs": [
    {
     "data": {
      "text/plain": [
       "'Hello, this is a test!'"
      ]
     },
     "execution_count": 26,
     "metadata": {},
     "output_type": "execute_result"
    }
   ],
   "source": [
    "intToText(RSADecrypt(cipher, key[1]))"
   ]
  },
  {
   "cell_type": "markdown",
   "id": "753198fa",
   "metadata": {},
   "source": [
    "Again, the message got after the decryption process is the same of the initial one, so everything worked!"
   ]
  }
 ],
 "metadata": {
  "kernelspec": {
   "display_name": "Python 3.10.6 64-bit",
   "language": "python",
   "name": "python3"
  },
  "language_info": {
   "codemirror_mode": {
    "name": "ipython",
    "version": 3
   },
   "file_extension": ".py",
   "mimetype": "text/x-python",
   "name": "python",
   "nbconvert_exporter": "python",
   "pygments_lexer": "ipython3",
   "version": "3.10.6"
  },
  "vscode": {
   "interpreter": {
    "hash": "916dbcbb3f70747c44a77c7bcd40155683ae19c65e1c03b4aa3499c5328201f1"
   }
  }
 },
 "nbformat": 4,
 "nbformat_minor": 5
}
